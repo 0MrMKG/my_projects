{
 "cells": [
  {
   "cell_type": "code",
   "execution_count": 48,
   "metadata": {
    "collapsed": true,
    "ExecuteTime": {
     "end_time": "2023-07-22T02:10:04.636154800Z",
     "start_time": "2023-07-22T02:10:02.028427900Z"
    }
   },
   "outputs": [],
   "source": [
    "import matplotlib\n",
    "matplotlib.use(\"TkAgg\")  #  ->在PyCharm中不显示绘图\n",
    "from matplotlib import pylab as plt\n",
    "\n",
    "import nibabel as nib\n",
    "from nibabel import nifti1\n",
    "from nibabel.viewers import OrthoSlicer3D\n",
    "\n",
    "eg_img_root = \"data/Test/1.nii\"\n",
    "img = nib.load(eg_img_root)\n",
    "\n",
    "width,height,queue,_= img.dataobj.shape #   @@这里是四维的\n",
    "\n",
    "\n",
    "#OrthoSlicer3D(img.dataobj).show()  #  ->直接查看3D图\n",
    "\n",
    "\n",
    "#@@->从三维图中取出PIL图\n",
    "#  ->截面与垂线垂直\n",
    "for idx,i in enumerate(range(0,queue,2)):\n",
    "    if idx == 20: break\n",
    "    img_crr = img.dataobj[:,:,i]\n",
    "    plt.subplot(5,4,idx+1)\n",
    "    plt.imshow(img_crr,cmap=\"gray\")\n",
    "plt.show()"
   ]
  },
  {
   "cell_type": "code",
   "execution_count": 44,
   "outputs": [],
   "source": [],
   "metadata": {
    "collapsed": false,
    "ExecuteTime": {
     "end_time": "2023-07-22T02:07:56.745965300Z",
     "start_time": "2023-07-22T02:07:56.730965900Z"
    }
   }
  },
  {
   "cell_type": "code",
   "execution_count": null,
   "outputs": [],
   "source": [],
   "metadata": {
    "collapsed": false
   }
  }
 ],
 "metadata": {
  "kernelspec": {
   "display_name": "Python 3",
   "language": "python",
   "name": "python3"
  },
  "language_info": {
   "codemirror_mode": {
    "name": "ipython",
    "version": 2
   },
   "file_extension": ".py",
   "mimetype": "text/x-python",
   "name": "python",
   "nbconvert_exporter": "python",
   "pygments_lexer": "ipython2",
   "version": "2.7.6"
  }
 },
 "nbformat": 4,
 "nbformat_minor": 0
}
