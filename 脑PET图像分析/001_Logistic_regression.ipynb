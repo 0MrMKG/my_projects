{
 "cells": [
  {
   "cell_type": "code",
   "execution_count": 1,
   "metadata": {
    "collapsed": true,
    "ExecuteTime": {
     "end_time": "2023-07-22T06:33:38.818021300Z",
     "start_time": "2023-07-22T06:33:38.328887600Z"
    }
   },
   "outputs": [],
   "source": [
    "import os\n",
    "import glob\n",
    "import numpy as np\n",
    "import pandas as pd\n",
    "\n",
    "import nibabel as nib\n",
    "from nibabel.viewers import OrthoSlicer3D\n",
    "from collections import Counter"
   ]
  },
  {
   "cell_type": "code",
   "execution_count": 2,
   "outputs": [
    {
     "name": "stdout",
     "output_type": "stream",
     "text": [
      "['data/Train\\\\NC\\\\2.nii', 'data/Train\\\\MCI\\\\13.nii', 'data/Train\\\\MCI\\\\7.nii', 'data/Train\\\\NC\\\\17.nii', 'data/Train\\\\NC\\\\23.nii', 'data/Train\\\\MCI\\\\21.nii', 'data/Train\\\\MCI\\\\18.nii', 'data/Train\\\\MCI\\\\10.nii', 'data/Train\\\\NC\\\\22.nii', 'data/Train\\\\MCI\\\\19.nii', 'data/Train\\\\MCI\\\\3.nii', 'data/Train\\\\NC\\\\21.nii', 'data/Train\\\\NC\\\\16.nii', 'data/Train\\\\NC\\\\19.nii', 'data/Train\\\\MCI\\\\14.nii', 'data/Train\\\\MCI\\\\23.nii', 'data/Train\\\\MCI\\\\6.nii', 'data/Train\\\\NC\\\\13.nii', 'data/Train\\\\MCI\\\\4.nii', 'data/Train\\\\MCI\\\\20.nii', 'data/Train\\\\NC\\\\11.nii', 'data/Train\\\\MCI\\\\5.nii', 'data/Train\\\\NC\\\\6.nii', 'data/Train\\\\MCI\\\\16.nii', 'data/Train\\\\NC\\\\3.nii', 'data/Train\\\\MCI\\\\17.nii', 'data/Train\\\\MCI\\\\9.nii', 'data/Train\\\\NC\\\\10.nii', 'data/Train\\\\MCI\\\\24.nii', 'data/Train\\\\NC\\\\4.nii', 'data/Train\\\\NC\\\\15.nii', 'data/Train\\\\NC\\\\12.nii', 'data/Train\\\\NC\\\\14.nii', 'data/Train\\\\NC\\\\25.nii', 'data/Train\\\\MCI\\\\8.nii', 'data/Train\\\\MCI\\\\12.nii', 'data/Train\\\\MCI\\\\25.nii', 'data/Train\\\\MCI\\\\2.nii', 'data/Train\\\\MCI\\\\22.nii', 'data/Train\\\\NC\\\\8.nii', 'data/Train\\\\MCI\\\\11.nii', 'data/Train\\\\NC\\\\9.nii', 'data/Train\\\\NC\\\\7.nii', 'data/Train\\\\NC\\\\20.nii', 'data/Train\\\\MCI\\\\15.nii', 'data/Train\\\\MCI\\\\1.nii', 'data/Train\\\\NC\\\\1.nii', 'data/Train\\\\NC\\\\18.nii', 'data/Train\\\\NC\\\\24.nii', 'data/Train\\\\NC\\\\5.nii']\n"
     ]
    }
   ],
   "source": [
    "test_path = glob.glob(\"data/Test/*\")\n",
    "train_path = glob.glob(\"data/Train/*/*\")\n",
    "np.random.shuffle(train_path)\n",
    "np.random.shuffle(test_path)\n",
    "print(train_path)"
   ],
   "metadata": {
    "collapsed": false,
    "ExecuteTime": {
     "end_time": "2023-07-22T06:33:38.834021600Z",
     "start_time": "2023-07-22T06:33:38.819021700Z"
    }
   }
  },
  {
   "cell_type": "code",
   "execution_count": 3,
   "outputs": [],
   "source": [
    "def get_features(path):\n",
    "    img = nib.load(path)\n",
    "    img = img.dataobj[:,:,:,0]\n",
    "    random_img = img[:,:,np.random.choice(range(img.shape[2]),10)] # ->随机取十个样本\n",
    "\n",
    "    feat = [\n",
    "        (random_img != 0 ).sum(),   # ->非零像素的数量\n",
    "        (random_img == 0 ).sum(),   # ->零像素的数量\n",
    "        random_img.mean(),      # ->平均值\n",
    "        random_img.std(),       # ->标准差\n",
    "        len(np.where(random_img.mean(0))[0]),   #->列方向上平均值不为零的数量\n",
    "        len(np.where(random_img.mean(1))[0]),   #->行方向上平均值不为零的数量\n",
    "        random_img.mean(0).max(),       #->列方向上最大平均值\n",
    "        random_img.mean(1).max()        #->行方向上最大平均值\n",
    "    ]\n",
    "\n",
    "    if \"NC\" in path:\n",
    "        return feat + [\"NC\"]\n",
    "    else:\n",
    "        return feat + [\"MCI\"]"
   ],
   "metadata": {
    "collapsed": false,
    "ExecuteTime": {
     "end_time": "2023-07-22T06:33:38.880021600Z",
     "start_time": "2023-07-22T06:33:38.834021600Z"
    }
   }
  },
  {
   "cell_type": "code",
   "execution_count": 5,
   "outputs": [
    {
     "name": "stderr",
     "output_type": "stream",
     "text": [
      "C:\\Users\\34778\\anaconda3\\envs\\for_ai\\lib\\site-packages\\sklearn\\linear_model\\_logistic.py:458: ConvergenceWarning: lbfgs failed to converge (status=1):\n",
      "STOP: TOTAL NO. of ITERATIONS REACHED LIMIT.\n",
      "\n",
      "Increase the number of iterations (max_iter) or scale the data as shown in:\n",
      "    https://scikit-learn.org/stable/modules/preprocessing.html\n",
      "Please also refer to the documentation for alternative solver options:\n",
      "    https://scikit-learn.org/stable/modules/linear_model.html#logistic-regression\n",
      "  n_iter_i = _check_optimize_result(\n"
     ]
    },
    {
     "data": {
      "text/plain": "LogisticRegression(max_iter=10)",
      "text/html": "<style>#sk-container-id-1 {color: black;background-color: white;}#sk-container-id-1 pre{padding: 0;}#sk-container-id-1 div.sk-toggleable {background-color: white;}#sk-container-id-1 label.sk-toggleable__label {cursor: pointer;display: block;width: 100%;margin-bottom: 0;padding: 0.3em;box-sizing: border-box;text-align: center;}#sk-container-id-1 label.sk-toggleable__label-arrow:before {content: \"▸\";float: left;margin-right: 0.25em;color: #696969;}#sk-container-id-1 label.sk-toggleable__label-arrow:hover:before {color: black;}#sk-container-id-1 div.sk-estimator:hover label.sk-toggleable__label-arrow:before {color: black;}#sk-container-id-1 div.sk-toggleable__content {max-height: 0;max-width: 0;overflow: hidden;text-align: left;background-color: #f0f8ff;}#sk-container-id-1 div.sk-toggleable__content pre {margin: 0.2em;color: black;border-radius: 0.25em;background-color: #f0f8ff;}#sk-container-id-1 input.sk-toggleable__control:checked~div.sk-toggleable__content {max-height: 200px;max-width: 100%;overflow: auto;}#sk-container-id-1 input.sk-toggleable__control:checked~label.sk-toggleable__label-arrow:before {content: \"▾\";}#sk-container-id-1 div.sk-estimator input.sk-toggleable__control:checked~label.sk-toggleable__label {background-color: #d4ebff;}#sk-container-id-1 div.sk-label input.sk-toggleable__control:checked~label.sk-toggleable__label {background-color: #d4ebff;}#sk-container-id-1 input.sk-hidden--visually {border: 0;clip: rect(1px 1px 1px 1px);clip: rect(1px, 1px, 1px, 1px);height: 1px;margin: -1px;overflow: hidden;padding: 0;position: absolute;width: 1px;}#sk-container-id-1 div.sk-estimator {font-family: monospace;background-color: #f0f8ff;border: 1px dotted black;border-radius: 0.25em;box-sizing: border-box;margin-bottom: 0.5em;}#sk-container-id-1 div.sk-estimator:hover {background-color: #d4ebff;}#sk-container-id-1 div.sk-parallel-item::after {content: \"\";width: 100%;border-bottom: 1px solid gray;flex-grow: 1;}#sk-container-id-1 div.sk-label:hover label.sk-toggleable__label {background-color: #d4ebff;}#sk-container-id-1 div.sk-serial::before {content: \"\";position: absolute;border-left: 1px solid gray;box-sizing: border-box;top: 0;bottom: 0;left: 50%;z-index: 0;}#sk-container-id-1 div.sk-serial {display: flex;flex-direction: column;align-items: center;background-color: white;padding-right: 0.2em;padding-left: 0.2em;position: relative;}#sk-container-id-1 div.sk-item {position: relative;z-index: 1;}#sk-container-id-1 div.sk-parallel {display: flex;align-items: stretch;justify-content: center;background-color: white;position: relative;}#sk-container-id-1 div.sk-item::before, #sk-container-id-1 div.sk-parallel-item::before {content: \"\";position: absolute;border-left: 1px solid gray;box-sizing: border-box;top: 0;bottom: 0;left: 50%;z-index: -1;}#sk-container-id-1 div.sk-parallel-item {display: flex;flex-direction: column;z-index: 1;position: relative;background-color: white;}#sk-container-id-1 div.sk-parallel-item:first-child::after {align-self: flex-end;width: 50%;}#sk-container-id-1 div.sk-parallel-item:last-child::after {align-self: flex-start;width: 50%;}#sk-container-id-1 div.sk-parallel-item:only-child::after {width: 0;}#sk-container-id-1 div.sk-dashed-wrapped {border: 1px dashed gray;margin: 0 0.4em 0.5em 0.4em;box-sizing: border-box;padding-bottom: 0.4em;background-color: white;}#sk-container-id-1 div.sk-label label {font-family: monospace;font-weight: bold;display: inline-block;line-height: 1.2em;}#sk-container-id-1 div.sk-label-container {text-align: center;}#sk-container-id-1 div.sk-container {/* jupyter's `normalize.less` sets `[hidden] { display: none; }` but bootstrap.min.css set `[hidden] { display: none !important; }` so we also need the `!important` here to be able to override the default hidden behavior on the sphinx rendered scikit-learn.org. See: https://github.com/scikit-learn/scikit-learn/issues/21755 */display: inline-block !important;position: relative;}#sk-container-id-1 div.sk-text-repr-fallback {display: none;}</style><div id=\"sk-container-id-1\" class=\"sk-top-container\"><div class=\"sk-text-repr-fallback\"><pre>LogisticRegression(max_iter=10)</pre><b>In a Jupyter environment, please rerun this cell to show the HTML representation or trust the notebook. <br />On GitHub, the HTML representation is unable to render, please try loading this page with nbviewer.org.</b></div><div class=\"sk-container\" hidden><div class=\"sk-item\"><div class=\"sk-estimator sk-toggleable\"><input class=\"sk-toggleable__control sk-hidden--visually\" id=\"sk-estimator-id-1\" type=\"checkbox\" checked><label for=\"sk-estimator-id-1\" class=\"sk-toggleable__label sk-toggleable__label-arrow\">LogisticRegression</label><div class=\"sk-toggleable__content\"><pre>LogisticRegression(max_iter=10)</pre></div></div></div></div></div>"
     },
     "execution_count": 5,
     "metadata": {},
     "output_type": "execute_result"
    }
   ],
   "source": [
    "train_feat = []\n",
    "for _ in range(30):\n",
    "    for path in train_path:\n",
    "        train_feat.append(get_features(path))\n",
    "\n",
    "test_feat = []\n",
    "for _ in range(30):\n",
    "    for path in test_path:\n",
    "        test_feat.append(get_features(path))\n",
    "\n",
    "from sklearn.linear_model import LogisticRegression\n",
    "model = LogisticRegression(max_iter=10)\n",
    "model.fit(\n",
    "    np.array(train_feat)[:,:-1].astype(np.float32),\n",
    "    np.array(train_feat)[:,-1]\n",
    "    )\n"
   ],
   "metadata": {
    "collapsed": false,
    "ExecuteTime": {
     "end_time": "2023-07-22T06:35:04.113079700Z",
     "start_time": "2023-07-22T06:34:39.834240600Z"
    }
   }
  },
  {
   "cell_type": "code",
   "execution_count": 10,
   "outputs": [],
   "source": [
    "test_pred = model.predict(np.array(test_feat)[:,:-1].astype(np.float32))\n",
    "test_pred = test_pred.reshape(30,-1).T\n",
    "\n",
    "test_pred_label = [Counter(x).most_common(1)[0][0] for x in test_pred]\n",
    "\n",
    "submit = pd.DataFrame(\n",
    "    {\n",
    "        'uuid':[int(x.split('\\\\')[-1][:-4]) for x in test_path],\n",
    "        'label':test_pred_label\n",
    "\n",
    "    }\n",
    ")\n",
    "\n",
    "submit = submit.sort_values(by='uuid')\n",
    "submit.to_csv('submit.csv',index=None)"
   ],
   "metadata": {
    "collapsed": false,
    "ExecuteTime": {
     "end_time": "2023-07-22T06:36:14.404618500Z",
     "start_time": "2023-07-22T06:36:14.357516600Z"
    }
   }
  },
  {
   "cell_type": "code",
   "execution_count": null,
   "outputs": [],
   "source": [],
   "metadata": {
    "collapsed": false
   }
  }
 ],
 "metadata": {
  "kernelspec": {
   "display_name": "Python 3",
   "language": "python",
   "name": "python3"
  },
  "language_info": {
   "codemirror_mode": {
    "name": "ipython",
    "version": 2
   },
   "file_extension": ".py",
   "mimetype": "text/x-python",
   "name": "python",
   "nbconvert_exporter": "python",
   "pygments_lexer": "ipython2",
   "version": "2.7.6"
  }
 },
 "nbformat": 4,
 "nbformat_minor": 0
}
