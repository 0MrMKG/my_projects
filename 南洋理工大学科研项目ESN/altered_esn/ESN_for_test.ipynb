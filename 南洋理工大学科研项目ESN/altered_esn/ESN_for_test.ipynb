{
 "cells": [
  {
   "cell_type": "markdown",
   "metadata": {
    "pycharm": {
     "name": "#%% md\n"
    }
   },
   "source": [
    "#  <center> 双循环ESN复现代码"
   ]
  },
  {
   "cell_type": "markdown",
   "source": [],
   "metadata": {
    "collapsed": false
   }
  },
  {
   "cell_type": "code",
   "execution_count": 1,
   "metadata": {
    "pycharm": {
     "name": "#%%\n"
    }
   },
   "outputs": [],
   "source": [
    "import numpy as np\n",
    "import sys\n",
    "import pandas as pd\n",
    "import seaborn as sns\n",
    "from matplotlib import pyplot as plt\n",
    "from sklearn import preprocessing\n",
    "import warnings\n",
    "warnings.filterwarnings('ignore')\n",
    "from ESN_for_test import ESN\n",
    "%matplotlib inline"
   ]
  },
  {
   "cell_type": "markdown",
   "metadata": {},
   "source": [
    "## <center> 【读取数据集部分】"
   ]
  },
  {
   "cell_type": "code",
   "execution_count": 2,
   "metadata": {
    "pycharm": {
     "name": "#%%\n"
    }
   },
   "outputs": [
    {
     "name": "stdout",
     "output_type": "stream",
     "text": [
      "[[200.  ]\n",
      " [200.  ]\n",
      " [200.  ]\n",
      " ...\n",
      " [401.76]\n",
      " [401.98]\n",
      " [402.2 ]]\n",
      "本次训练的output数据集大小为205200\n"
     ]
    }
   ],
   "source": [
    "min_max_scaler = preprocessing.MinMaxScaler()\n",
    "data_name = \"output\"\n",
    "data_path = r\"datasets/Data.csv\"\n",
    "with open(data_path,encoding='utf-8') as f:\n",
    "    data = pd.read_csv(data_path,sep=\",\",skiprows=[0])\n",
    "    data1 = data.iloc[:, [3]]\n",
    "    data = data1\n",
    "    data = np.array(data).astype('float64')\n",
    "    data.reshape(1,-1)\n",
    "\n",
    "    print(data)\n",
    "    print(\"本次训练的{}数据集大小为{}\".format(data_name,len(data)))"
   ]
  },
  {
   "cell_type": "markdown",
   "source": [],
   "metadata": {
    "collapsed": false
   }
  },
  {
   "cell_type": "code",
   "execution_count": 3,
   "metadata": {
    "pycharm": {
     "name": "#%%\n"
    }
   },
   "outputs": [],
   "source": [
    "def MSE(yhat, y):\n",
    "    return np.sqrt(np.mean((yhat.flatten() - y)**2))"
   ]
  },
  {
   "cell_type": "markdown",
   "metadata": {},
   "source": [
    "## <center> 训练"
   ]
  },
  {
   "cell_type": "code",
   "execution_count": null,
   "metadata": {
    "pycharm": {
     "name": "#%%\n",
     "is_executing": true
    }
   },
   "outputs": [
    {
     "name": "stdout",
     "output_type": "stream",
     "text": [
      "Training progress: 27/60.0"
     ]
    }
   ],
   "source": [
    "n_reservoir= 500\n",
    "sparsity   = 0.15\n",
    "rand_seed  = 23\n",
    "\n",
    "radius_set = [0.3]\n",
    "noise_set = [0.01]\n",
    "\n",
    "# radius_set = [0.5, 0.7, 0.9,  1,  1.1, 1.3, 1.5]\n",
    "# noise_set = [ 0.01, 0.03,0.07, 0.1, 0.3, 0.5, 0.7,0.9]\n",
    "\n",
    "radius_set_size  = len(radius_set)\n",
    "noise_set_size = len(noise_set)\n",
    "\n",
    "trainlen = 40000\n",
    "future = 50\n",
    "futureTotal = 3000\n",
    "\n",
    "loss = np.zeros([radius_set_size, noise_set_size])\n",
    "MSE_output = []\n",
    "\n",
    "for l in range(radius_set_size):\n",
    "    rho = radius_set[l]\n",
    "    for j in range(noise_set_size):\n",
    "        noise = noise_set[j]\n",
    "        pred_tot=np.zeros(futureTotal)\n",
    "        esn = ESN(n_inputs = 1,\n",
    "          n_outputs = 1,\n",
    "          n_reservoir = n_reservoir,\n",
    "          sparsity=sparsity,\n",
    "          random_state=rand_seed,\n",
    "          spectral_radius = rho,\n",
    "          noise=noise)\n",
    "        for index,i in enumerate(range(0,futureTotal,future)):\n",
    "            pred_training = esn.fit(np.ones(trainlen),data[i:trainlen+i])\n",
    "            prediction = esn.predict(np.ones(future))\n",
    "            pred_tot[i:i+future] = prediction[:,0]\n",
    "            print(\"\\r\", end=\"\")\n",
    "            print(\"Training progress: {}/{}\".format(index,(futureTotal/future)), end=\"\")\n",
    "            sys.stdout.flush()\n",
    "\n",
    "        loss[l, j] = MSE(pred_tot, data[trainlen:trainlen+futureTotal])\n",
    "        print('rho = ', radius_set[l], ', noise = ', noise_set[j], ', MSE = ', loss[l][j] )\n"
   ]
  },
  {
   "cell_type": "markdown",
   "metadata": {},
   "source": [
    "## <center> 预测"
   ]
  },
  {
   "cell_type": "code",
   "execution_count": null,
   "metadata": {
    "pycharm": {
     "name": "#%%\n",
     "is_executing": true
    }
   },
   "outputs": [],
   "source": [
    "import seaborn as sns\n",
    "from matplotlib import rc\n",
    "rc('text', usetex=False)\n",
    "\n",
    "\n",
    "for rand_seed in range(1):\n",
    "    n_reservoir= 500\n",
    "    sparsity = 0.2\n",
    "    rand_seed=rand_seed\n",
    "    spectral_radius = 0.8\n",
    "    noise = 0.01\n",
    "\n",
    "    esn = ESN(n_inputs = 1,\n",
    "          n_outputs = 1,\n",
    "          n_reservoir = n_reservoir,\n",
    "          sparsity=sparsity,\n",
    "          random_state=rand_seed,\n",
    "          spectral_radius = spectral_radius,\n",
    "          noise=noise)\n",
    "\n",
    "    trainlen = 160000\n",
    "    future = 200\n",
    "    futureTotal = 2000\n",
    "    pred_tot=np.zeros(futureTotal)\n",
    "\n",
    "    for index,i in enumerate(range(0,futureTotal,future)):\n",
    "        pred_training = esn.fit(np.ones(trainlen),data[i:trainlen+i])\n",
    "        prediction = esn.predict(np.ones(future))\n",
    "        pred_tot[i:i+future] = prediction[:,0]\n",
    "        print(\"Training progress: {}/{}\".format(index,(futureTotal/future)), end=\"\")\n",
    "        sys.stdout.flush()\n",
    "    mse = MSE(pred_tot, data[trainlen:trainlen+futureTotal])\n",
    "    print(mse)\n",
    "    esn.print_sth()\n",
    "\n",
    "    show_total = 4000\n",
    "\n",
    "    plt.figure(figsize=(30,8))\n",
    "    plt.plot(range(trainlen,trainlen+show_total),data[trainlen:trainlen+show_total],'b',label=\"Data\", alpha=0.3)\n",
    "    #plt.plot(range(0,trainlen),pred_training,'.g',  alpha=0.3)\n",
    "    plt.plot(range(trainlen,trainlen+show_total),pred_tot[:show_total],'k',  alpha=0.8, label='Free Running ESN')\n",
    "    lo,hi = plt.ylim()\n",
    "    plt.plot([trainlen,trainlen],[lo+np.spacing(1),hi-np.spacing(1)],'k:', linewidth=4)\n",
    "    plt.savefig(\"save_data//\" + str(rand_seed) +'.png')\n",
    "    sns.despine()"
   ]
  },
  {
   "cell_type": "code",
   "execution_count": null,
   "outputs": [],
   "source": [
    "show_total = 2000\n",
    "plt.figure(figsize=(30,8))\n",
    "plt.plot(range(trainlen,trainlen+show_total),data[trainlen:trainlen+show_total],'b',label=\"Data\", alpha=0.3)\n",
    "#plt.plot(range(0,trainlen),pred_training,'.g',  alpha=0.3)\n",
    "plt.plot(range(trainlen,trainlen+show_total),pred_tot[:show_total],'k',  alpha=0.8, label='Free Running ESN')\n",
    "lo,hi = plt.ylim()\n",
    "plt.plot([trainlen,trainlen],[lo+np.spacing(1),hi-np.spacing(1)],'k:', linewidth=4)\n",
    "plt.savefig(\"save_data//\" + str(rand_seed) +\"gg\"+'.png')\n",
    "sns.despine()"
   ],
   "metadata": {
    "collapsed": false,
    "pycharm": {
     "name": "#%%\n",
     "is_executing": true
    }
   }
  },
  {
   "cell_type": "code",
   "execution_count": null,
   "outputs": [],
   "source": [],
   "metadata": {
    "collapsed": false,
    "pycharm": {
     "name": "#%%\n",
     "is_executing": true
    }
   }
  },
  {
   "cell_type": "code",
   "execution_count": null,
   "outputs": [],
   "source": [
    "from sklearn.metrics import mean_squared_error\n",
    "mse = mean_squared_error(pred_tot[:show_total],data[trainlen:trainlen+futureTotal])\n",
    "print(mse)"
   ],
   "metadata": {
    "collapsed": false,
    "pycharm": {
     "name": "#%%\n",
     "is_executing": true
    }
   }
  },
  {
   "cell_type": "code",
   "execution_count": null,
   "outputs": [],
   "source": [],
   "metadata": {
    "collapsed": false,
    "pycharm": {
     "name": "#%%\n",
     "is_executing": true
    }
   }
  }
 ],
 "metadata": {
  "kernelspec": {
   "name": "python3",
   "language": "python",
   "display_name": "Python 3 (ipykernel)"
  },
  "language_info": {
   "codemirror_mode": {
    "name": "ipython",
    "version": 3
   },
   "file_extension": ".py",
   "mimetype": "text/x-python",
   "name": "python",
   "nbconvert_exporter": "python",
   "pygments_lexer": "ipython3",
   "version": "3.9.12"
  }
 },
 "nbformat": 4,
 "nbformat_minor": 1
}